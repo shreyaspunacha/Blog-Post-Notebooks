{
 "cells": [
  {
   "cell_type": "markdown",
   "id": "17822361",
   "metadata": {},
   "source": [
    "# Solving Boundary Value Problems Using Shooting Method And Python"
   ]
  },
  {
   "cell_type": "markdown",
   "id": "be081eed",
   "metadata": {},
   "source": [
    "## Introduction\n",
    "\n",
    "The shooting method is developed with the aim of converting the boundary value problem to an equivalent initial value problem. While solving the initial value problem, we start with an initial value and march forward in time to get to the solution. However, boundary value problems cannot be solved this way as there are not enough initial value conditions to solve the equation to get a unique solution. Shooting methods are developed to circumvent this problem. \n",
    "\n",
    "The name shooting method comes from the game of target shooting. As in the game, we shoot at the target and see how close to the target we can hit. Based on the errors, we then adjust our aim and shoot again with the hope that it will hit the target. "
   ]
  },
  {
   "cell_type": "markdown",
   "id": "bdbfc003",
   "metadata": {},
   "source": [
    "## The Shooting Method\n",
    "\n",
    "Let us consider the following boundary value problem:\n",
    "\n",
    "$$\n",
    "\\frac{d^{2}y}{dt^{2}} = f(t, y, \\frac{dy}{dt})\n",
    "$$\n",
    "\n",
    "on a $t \\in [a,b]$ with the boundary conditions $y(a) = \\alpha$ and $y(b) = \\beta$.\n",
    "\n",
    "To solve this problem using the initial value problem approach, we have to rewrite the above the differential equation as follows:\n",
    "\n",
    "$$\n",
    "\\frac{dy}{dt} = z\n",
    "$$\n",
    "\n",
    "Along with this condition, we need $y(a) = \\alpha$, which is given. We rewrite the above equation using the above relation.\n",
    "\n",
    "$$\n",
    "\\frac{dz}{dt} = f(t, y, z)\n",
    "$$\n",
    "\n",
    "However, to solve the above equation we need to know $z(a) = \\kappa$, which is unknown. Our goal here is to find the value of $\\kappa$ so that the boundary condition $y(b) = \\beta$ is satisfied.\n",
    "To accomplish that we define a function $F(\\kappa)$\n",
    "\n",
    "$$F(\\kappa) = y(b) - \\beta$$\n",
    "\n",
    "Where we have to find the value of $\\kappa$ so that $F(\\kappa) = 0$. Notice that the above step is a root finding problem.  Once we realize this, we can use a systematic methods to search for the best guess using root finding algorithms in Python.\n",
    "\n",
    "To summarise, shooting method is performed using the following three steps.\n",
    "\n",
    "* Start the process by guessing $z(a) = \\kappa$ along with $y(a) = \\alpha$ which is given. So, we have turned the above boundary value problem into an initial value problem. This is the aim step.\n",
    "\n",
    "* Using the initial conditions in the previous step, we integrate the differential equation till $y(b) = \\beta$. This is the shooting step.\n",
    "\n",
    "* Now we compare the values of $y(b)$ and $y(\\beta)$.  Usually our initial guess is not good, and $y(b) \\not = \\beta$. However, what we want is $y(b) = \\beta$. Therefore, we adjust our initial guesses and repeat. Until the error is acceptable, we can stop. This is the iterative root-finding step. "
   ]
  },
  {
   "cell_type": "markdown",
   "id": "c1adafc3",
   "metadata": {},
   "source": [
    "## Example 1\n",
    "\n",
    "We are going out to launch a rocket, and let $y(t)$\n",
    "is the altitude (meters from the surface) of the rocket at time t. We know the gravity $g=9.8 m/s^{2}$. If we want to have the rocket at $50 m$ off the ground after $5 s$ after launching, what should be the velocity at launching? (we ignore the drag of the air resistance).\n",
    "\n",
    "Let us write the problem in terms of a boundary value problem. Our differential equation must be\n",
    "\n",
    "$$\n",
    "\\frac{d^{2}y}{dt^{2}} = -g\n",
    "$$\n",
    "\n",
    "with the boundary conditions $y(0) = 0$ and $y(5) = 50$. Rember, we want to answer the question, what’s the $y^{'}(0)$ at launching?\n",
    "\n",
    "To solve the using shooting method, we have to reduce the order of the function. Therefore, we reduce the second-order ODE to two coupled first order ODEs as shown.\n",
    "\n",
    "$$\n",
    "\\frac{dy}{dt} = v\n",
    "$$\n",
    "\n",
    "and \n",
    "\n",
    "$$\n",
    "\\frac{dv}{dt} = -g\n",
    "$$\n",
    "\n",
    "\\begin{equation}\n",
    "\\frac{d}{dt} \n",
    "\\begin{bmatrix}\n",
    "y(t) \\\\\n",
    "v(t)\n",
    "\\end{bmatrix} = \n",
    "\\begin{bmatrix}\n",
    "0 & 1\\\\\n",
    "0 & -g/v\\\\\n",
    "\\end{bmatrix}\n",
    "\\begin{bmatrix}\n",
    "y(t) \\\\\n",
    "v(t)\n",
    "\\end{bmatrix}\n",
    "\\end{equation}\n",
    "\n",
    "To solve this problem using the shooting method we want $y^{'}(0)$.\n"
   ]
  },
  {
   "cell_type": "code",
   "execution_count": null,
   "id": "b5a4a09c",
   "metadata": {},
   "outputs": [],
   "source": []
  }
 ],
 "metadata": {
  "kernelspec": {
   "display_name": "Python 3",
   "language": "python",
   "name": "python3"
  },
  "language_info": {
   "codemirror_mode": {
    "name": "ipython",
    "version": 3
   },
   "file_extension": ".py",
   "mimetype": "text/x-python",
   "name": "python",
   "nbconvert_exporter": "python",
   "pygments_lexer": "ipython3",
   "version": "3.8.8"
  }
 },
 "nbformat": 4,
 "nbformat_minor": 5
}
